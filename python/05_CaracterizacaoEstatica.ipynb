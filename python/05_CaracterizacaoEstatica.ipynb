{
  "cells": [
    {
      "cell_type": "code",
      "execution_count": 22,
      "metadata": {
        "id": "THlmtrZLqhmo"
      },
      "outputs": [],
      "source": [
        "from scipy.stats import t\n",
        "import numpy.matlib as mb\n",
        "import numpy.linalg as lg\n",
        "import ipywidgets as widgets\n",
        "import math as mt\n",
        "import numpy as np\n",
        "import pandas as pd\n",
        "import re"
      ]
    },
    {
      "cell_type": "code",
      "execution_count": 23,
      "metadata": {
        "id": "bT6nEwMBplRh"
      },
      "outputs": [],
      "source": [
        "def erroMedicao(VVC, xi):\n",
        "  n = np.size(xi,0) # n - Tamanho das amostas\n",
        "  mVVC = mb.repmat(VVC,n,1) # Replica o vetor coluna VVc em n linhas\n",
        "  em = (xi - mVVC)\n",
        "  emMaxAbs = np.max(abs(em),0).T\n",
        "  return (emMaxAbs)\n",
        "\n",
        "def erroSistematico(VVC, xi):\n",
        "  vm = np.mean(xi,0) # Média aritmética de cada linha\n",
        "  return ((vm - VVC).T) # Erro sistemático ou Tendência\n",
        "\n",
        "def erroAleatorio(xi):\n",
        "  n = np.std(xi,0,ddof=1)\n",
        "  return (n.T)\n",
        "\n",
        "def histerese(xiAvanco,xiRecuo):\n",
        "  vmAvanco = np.mean(xiAvanco,0) # Média aritmética em avanço.\n",
        "  vmRecuo = np.mean(xiRecuo,0) # Média aritmética em recuo | retorno.\n",
        "  hist = abs(vmAvanco-vmRecuo)\n",
        "  histMax = np.max(hist,0)\n",
        "  return (np.asmatrix(hist).T)\n",
        "\n",
        "def linearidade(VVC, xi):\n",
        "  tam = np.size(VVC,1) # Quantidade de valores analisados\n",
        "  VVC = VVC.T\n",
        "  vm = np.mean(xi,0).T # Média aritmética de cada linha\n",
        "  # Calcula a reta com menor erro em relação as medidas - MMQ\n",
        "  mt = np.concatenate((vm, np.ones((tam,1))),1)\n",
        "  x = lg.inv(mt.T @ mt)\n",
        "  y = mt.T @ VVC\n",
        "  coef = x @ y # Faz a linearização com os dados\n",
        "  eVVC = coef[0,0]*vm+coef[1,0] # VVC estimado\n",
        "  el = abs(VVC - eVVC)\n",
        "  elMax = np.max(el, 0)\n",
        "  return (el)\n",
        "\n",
        "def repetitividade(xi):\n",
        "  return(np.std(xi,0,ddof=1).T) # Calcula o Desvio Padrão\n",
        "\n",
        "def incertezaPadraoTipoA(st, n): # Incerteza Padrão do Tipo A\n",
        "  return (np.asmatrix(st/mt.sqrt(n)))\n",
        "\n",
        "def incertezaPadraoTipoB(uTB,caracteristicasPadrao): #Incerteza Padrão do Tipo B\n",
        "  desc = uTB[0]\n",
        "  y = uTB[1]\n",
        "  tipo = re.search(r\"^([^ |\\(])+\",desc)\n",
        "  if tipo!=None:\n",
        "    desc = tipo.group(0)\n",
        "  if desc == 'Res':\n",
        "    resp = y/(2*mt.sqrt(3))\n",
        "  elif tipo[0] == 'Deriva':\n",
        "    resp = y/mt.sqrt(3)\n",
        "  elif tipo[0] == 'Lin':\n",
        "    resp = y/mt.sqrt(3)\n",
        "    #resp = zeros(size(y,1),1)\n",
        "  elif tipo[0] == 'Hist':\n",
        "    resp = y/(2*mt.sqrt(3))\n",
        "  else: # \"Quando for Incerteza - U\"\n",
        "    try:\n",
        "      resp = y/caracteristicasPadrao['k'] # fatorAbrang\n",
        "    except:\n",
        "      resp = y\n",
        "  return (resp)\n",
        "\n",
        "def incertezaCombinada(y): # Cálculo da Incerteza Combinada\n",
        "  return(np.sqrt(np.sum(np.square(y), axis=1)))\n",
        "\n",
        "def grauLiberdadeEfetivo(uc,uTA,n,uTB,caracteristicasPadrao): # CÁLCULO DO GRAU DE LIBERDADE EFETIVO\n",
        "  numerador = np.power(uc,4)\n",
        "  veff = mb.repmat((np.asmatrix(caracteristicasPadrao['veff'])).T,1,np.size(uTB,1))\n",
        "  va = mb.repmat(np.asmatrix([n-1]),np.size(uTA,0),1) # Grau de Liberdade\n",
        "  denominador = (np.power(uTA,4)/va)+np.sum(np.power(uTB,4)/veff, axis=1)\n",
        "  vefF = numerador/denominador # GRAU DE LIBERDADE EFETIVO\n",
        "  return(vefF)\n",
        "\n",
        "def fatorAbrangencia(nivelConfianca,veff):\n",
        "  k=t.ppf(1-((1-nivelConfianca/100)/2),veff)\n",
        "  return(k)\n",
        "\n",
        "def incertezaExpandida(uc,k):#Cálculo da Incerteza Expandida\n",
        "  ue = np.multiply(uc,k);\n",
        "  return (ue)\n",
        "\n",
        "def caractEstatico(caracteristicasPadrao, uTB, nivelConfiancaDesejado, VVC, xi, xi_avanco, xi_atraso):\n",
        "  em = erroMedicao(VVC, xi)\n",
        "  es = erroSistematico(VVC, xi)\n",
        "  ea = erroAleatorio(xi)\n",
        "  rep = repetitividade(xi)\n",
        "  lin = linearidade(VVC, xi)\n",
        "  hist = histerese(xi_avanco,xi_atraso)\n",
        "\n",
        "  uTA_padrao = incertezaPadraoTipoA(rep,np.size(xi,0))\n",
        "  a = (np.asmatrix(np.array([incertezaPadraoTipoB(x,caracteristicasPadrao) for x in uTB]))).T\n",
        "  b = incertezaPadraoTipoB(('Lin',lin),caracteristicasPadrao)\n",
        "  c = incertezaPadraoTipoB(('Hist',hist),caracteristicasPadrao)\n",
        "  uTB_padrao = np.concatenate((a, b, c), 1)\n",
        "  uc = incertezaCombinada(np.concatenate((uTA_padrao, uTB_padrao),1))\n",
        "  veff = grauLiberdadeEfetivo(uc,uTA_padrao,np.size(xi,0),uTB_padrao,caracteristicasPadrao)\n",
        "  k = fatorAbrangencia((np.asmatrix(nivelConfiancaDesejado)).T,veff)\n",
        "  ue = incertezaExpandida(uc,k)\n",
        "\n",
        "  desc = [\"EM\",\"ES\",\"EA\",\"Rep\",\"Hist\",\"ELin\",\"uTA (Rep_p)\"]+[x[0]+\"_p\" for x in uTB]+[\"Lin_p\",'Hist_p',\"uC\",\"Veff\",\"k\",\"uE\"]\n",
        "  data = np.concatenate((em, es, ea, rep, hist, lin, uTA_padrao, uTB_padrao, uc, veff, k, ue), 1)\n",
        "\n",
        "  return(pd.DataFrame(data=data, columns=desc))"
      ]
    },
    {
      "cell_type": "markdown",
      "metadata": {
        "id": "XuDgtedGSiEc"
      },
      "source": [
        "# Voltímetro"
      ]
    },
    {
      "cell_type": "code",
      "execution_count": 24,
      "metadata": {
        "colab": {
          "base_uri": "https://localhost:8080/",
          "height": 212
        },
        "id": "vG2LzGO_KyFZ",
        "outputId": "e27db7ca-27dd-4d7b-e1af-de1aba5032a4"
      },
      "outputs": [
        {
          "data": {
            "application/vnd.microsoft.datawrangler.viewer.v0+json": {
              "columns": [
                {
                  "name": "index",
                  "rawType": "int64",
                  "type": "integer"
                },
                {
                  "name": "EM",
                  "rawType": "float64",
                  "type": "float"
                },
                {
                  "name": "ES",
                  "rawType": "float64",
                  "type": "float"
                },
                {
                  "name": "EA",
                  "rawType": "float64",
                  "type": "float"
                },
                {
                  "name": "Rep",
                  "rawType": "float64",
                  "type": "float"
                },
                {
                  "name": "Hist",
                  "rawType": "float64",
                  "type": "float"
                },
                {
                  "name": "ELin",
                  "rawType": "float64",
                  "type": "float"
                },
                {
                  "name": "uTA (Rep_p)",
                  "rawType": "float64",
                  "type": "float"
                },
                {
                  "name": "Res_p",
                  "rawType": "float64",
                  "type": "float"
                },
                {
                  "name": "Res (p)_p",
                  "rawType": "float64",
                  "type": "float"
                },
                {
                  "name": "u (p)_p",
                  "rawType": "float64",
                  "type": "float"
                },
                {
                  "name": "Deriva (p)_p",
                  "rawType": "float64",
                  "type": "float"
                },
                {
                  "name": "Lin_p",
                  "rawType": "float64",
                  "type": "float"
                },
                {
                  "name": "Hist_p",
                  "rawType": "float64",
                  "type": "float"
                },
                {
                  "name": "uC",
                  "rawType": "float64",
                  "type": "float"
                },
                {
                  "name": "Veff",
                  "rawType": "float64",
                  "type": "float"
                },
                {
                  "name": "k",
                  "rawType": "float64",
                  "type": "float"
                },
                {
                  "name": "uE",
                  "rawType": "float64",
                  "type": "float"
                }
              ],
              "conversionMethod": "pd.DataFrame",
              "ref": "ded9e86a-5cfb-44ee-8fd3-bfc4cdf140d6",
              "rows": [
                [
                  "0",
                  "0.10999999999999943",
                  "0.08800000000000097",
                  "0.014832396974191248",
                  "0.014832396974191248",
                  "0.0",
                  "0.02299892568147044",
                  "0.006633249580710764",
                  "0.02886751345948129",
                  "0.002886751345948129",
                  "0.0005",
                  "0.0011547005383792516",
                  "0.013278435933269156",
                  "0.0",
                  "0.03261237281821017",
                  "2337.1373294714285",
                  "2.0010726928768405",
                  "0.0652597286964393"
                ],
                [
                  "1",
                  "0.07000000000000028",
                  "0.055999999999997385",
                  "0.01140175425099254",
                  "0.01140175425099254",
                  "0.0",
                  "0.03395870873766427",
                  "0.005099019513593303",
                  "0.02886751345948129",
                  "0.002886751345948129",
                  "0.0005",
                  "0.0011547005383792516",
                  "0.01960606963102256",
                  "0.0",
                  "0.03540689150965544",
                  "9299.604873368764",
                  "2.0002713087951007",
                  "0.07082338922038463"
                ],
                [
                  "2",
                  "0.12999999999999545",
                  "0.11400000000000432",
                  "0.011401754250992227",
                  "0.011401754250992227",
                  "0.0",
                  "0.001006305792870421",
                  "0.005099019513593163",
                  "0.02886751345948129",
                  "0.002886751345948129",
                  "0.0005",
                  "0.0011547005383792516",
                  "0.0005809909204008175",
                  "0.0",
                  "0.029488769903975177",
                  "4474.4527094479145",
                  "2.000561326223888",
                  "0.05899409262780766"
                ],
                [
                  "3",
                  "0.1700000000000017",
                  "0.15200000000000102",
                  "0.013038404810404884",
                  "0.013038404810404884",
                  "0.0",
                  "0.011966088848808454",
                  "0.0058309518948451156",
                  "0.02886751345948129",
                  "0.002886751345948129",
                  "0.0005",
                  "0.0011547005383792516",
                  "0.00690862461800654",
                  "0.0",
                  "0.03041346895887616",
                  "2960.5063133056533",
                  "2.000847246261384",
                  "0.06085270561562345"
                ]
              ],
              "shape": {
                "columns": 17,
                "rows": 4
              }
            },
            "text/html": [
              "<div>\n",
              "<style scoped>\n",
              "    .dataframe tbody tr th:only-of-type {\n",
              "        vertical-align: middle;\n",
              "    }\n",
              "\n",
              "    .dataframe tbody tr th {\n",
              "        vertical-align: top;\n",
              "    }\n",
              "\n",
              "    .dataframe thead th {\n",
              "        text-align: right;\n",
              "    }\n",
              "</style>\n",
              "<table border=\"1\" class=\"dataframe\">\n",
              "  <thead>\n",
              "    <tr style=\"text-align: right;\">\n",
              "      <th></th>\n",
              "      <th>EM</th>\n",
              "      <th>ES</th>\n",
              "      <th>EA</th>\n",
              "      <th>Rep</th>\n",
              "      <th>Hist</th>\n",
              "      <th>ELin</th>\n",
              "      <th>uTA (Rep_p)</th>\n",
              "      <th>Res_p</th>\n",
              "      <th>Res (p)_p</th>\n",
              "      <th>u (p)_p</th>\n",
              "      <th>Deriva (p)_p</th>\n",
              "      <th>Lin_p</th>\n",
              "      <th>Hist_p</th>\n",
              "      <th>uC</th>\n",
              "      <th>Veff</th>\n",
              "      <th>k</th>\n",
              "      <th>uE</th>\n",
              "    </tr>\n",
              "  </thead>\n",
              "  <tbody>\n",
              "    <tr>\n",
              "      <th>0</th>\n",
              "      <td>0.11</td>\n",
              "      <td>0.088</td>\n",
              "      <td>0.014832</td>\n",
              "      <td>0.014832</td>\n",
              "      <td>0.0</td>\n",
              "      <td>0.022999</td>\n",
              "      <td>0.006633</td>\n",
              "      <td>0.028868</td>\n",
              "      <td>0.002887</td>\n",
              "      <td>0.0005</td>\n",
              "      <td>0.001155</td>\n",
              "      <td>0.013278</td>\n",
              "      <td>0.0</td>\n",
              "      <td>0.032612</td>\n",
              "      <td>2337.137329</td>\n",
              "      <td>2.001073</td>\n",
              "      <td>0.065260</td>\n",
              "    </tr>\n",
              "    <tr>\n",
              "      <th>1</th>\n",
              "      <td>0.07</td>\n",
              "      <td>0.056</td>\n",
              "      <td>0.011402</td>\n",
              "      <td>0.011402</td>\n",
              "      <td>0.0</td>\n",
              "      <td>0.033959</td>\n",
              "      <td>0.005099</td>\n",
              "      <td>0.028868</td>\n",
              "      <td>0.002887</td>\n",
              "      <td>0.0005</td>\n",
              "      <td>0.001155</td>\n",
              "      <td>0.019606</td>\n",
              "      <td>0.0</td>\n",
              "      <td>0.035407</td>\n",
              "      <td>9299.604873</td>\n",
              "      <td>2.000271</td>\n",
              "      <td>0.070823</td>\n",
              "    </tr>\n",
              "    <tr>\n",
              "      <th>2</th>\n",
              "      <td>0.13</td>\n",
              "      <td>0.114</td>\n",
              "      <td>0.011402</td>\n",
              "      <td>0.011402</td>\n",
              "      <td>0.0</td>\n",
              "      <td>0.001006</td>\n",
              "      <td>0.005099</td>\n",
              "      <td>0.028868</td>\n",
              "      <td>0.002887</td>\n",
              "      <td>0.0005</td>\n",
              "      <td>0.001155</td>\n",
              "      <td>0.000581</td>\n",
              "      <td>0.0</td>\n",
              "      <td>0.029489</td>\n",
              "      <td>4474.452709</td>\n",
              "      <td>2.000561</td>\n",
              "      <td>0.058994</td>\n",
              "    </tr>\n",
              "    <tr>\n",
              "      <th>3</th>\n",
              "      <td>0.17</td>\n",
              "      <td>0.152</td>\n",
              "      <td>0.013038</td>\n",
              "      <td>0.013038</td>\n",
              "      <td>0.0</td>\n",
              "      <td>0.011966</td>\n",
              "      <td>0.005831</td>\n",
              "      <td>0.028868</td>\n",
              "      <td>0.002887</td>\n",
              "      <td>0.0005</td>\n",
              "      <td>0.001155</td>\n",
              "      <td>0.006909</td>\n",
              "      <td>0.0</td>\n",
              "      <td>0.030413</td>\n",
              "      <td>2960.506313</td>\n",
              "      <td>2.000847</td>\n",
              "      <td>0.060853</td>\n",
              "    </tr>\n",
              "  </tbody>\n",
              "</table>\n",
              "</div>"
            ],
            "text/plain": [
              "     EM     ES        EA       Rep  Hist      ELin  uTA (Rep_p)     Res_p  \\\n",
              "0  0.11  0.088  0.014832  0.014832   0.0  0.022999     0.006633  0.028868   \n",
              "1  0.07  0.056  0.011402  0.011402   0.0  0.033959     0.005099  0.028868   \n",
              "2  0.13  0.114  0.011402  0.011402   0.0  0.001006     0.005099  0.028868   \n",
              "3  0.17  0.152  0.013038  0.013038   0.0  0.011966     0.005831  0.028868   \n",
              "\n",
              "   Res (p)_p  u (p)_p  Deriva (p)_p     Lin_p  Hist_p        uC         Veff  \\\n",
              "0   0.002887   0.0005      0.001155  0.013278     0.0  0.032612  2337.137329   \n",
              "1   0.002887   0.0005      0.001155  0.019606     0.0  0.035407  9299.604873   \n",
              "2   0.002887   0.0005      0.001155  0.000581     0.0  0.029489  4474.452709   \n",
              "3   0.002887   0.0005      0.001155  0.006909     0.0  0.030413  2960.506313   \n",
              "\n",
              "          k        uE  \n",
              "0  2.001073  0.065260  \n",
              "1  2.000271  0.070823  \n",
              "2  2.000561  0.058994  \n",
              "3  2.000847  0.060853  "
            ]
          },
          "execution_count": 24,
          "metadata": {},
          "output_type": "execute_result"
        }
      ],
      "source": [
        "caracteristicasPadrao = {'k': np.matrix([2, 2, 2, 2]),\n",
        "                         'veff': np.matrix([np.inf, np.inf, np.inf, np.inf])}\n",
        "\n",
        "uTB = [('Res',np.matrix([0.1, 0.1, 0.1, 0.1])),\n",
        "       ('Res (p)',np.matrix([0.01, 0.01, 0.01, 0.01])),\n",
        "       ('u (p)',np.matrix([0.001, 0.001, 0.001, 0.001])),\n",
        "       ('Deriva (p)',np.matrix([0.002, 0.002, 0.002, 0.002]))]\n",
        "\n",
        "nivelConfiancaDesejado = np.matrix([95.45,95.45,95.45,95.45])\n",
        "\n",
        "VVC = np.matrix([25,50,75,100])\n",
        "\n",
        "xi = np.matrix([[25.09, 50.07, 75.11, 100.15],\n",
        "               [25.11, 50.05, 75.12, 100.14],\n",
        "               [25.08, 50.06, 75.1, 100.17],\n",
        "               [25.07, 50.04, 75.11, 100.16],\n",
        "               [25.09, 50.06, 75.13, 100.14]])\n",
        "\n",
        "caractEstatico(caracteristicasPadrao, uTB, nivelConfiancaDesejado, VVC, xi, np.ones((1,np.size(xi,1))), np.ones((1,np.size(xi,1))))"
      ]
    },
    {
      "cell_type": "markdown",
      "metadata": {
        "id": "356BzPD1uYuN"
      },
      "source": [
        "# Paquímetro"
      ]
    },
    {
      "cell_type": "code",
      "execution_count": 25,
      "metadata": {
        "id": "SEqT6-YlucxJ"
      },
      "outputs": [
        {
          "data": {
            "application/vnd.microsoft.datawrangler.viewer.v0+json": {
              "columns": [
                {
                  "name": "index",
                  "rawType": "int64",
                  "type": "integer"
                },
                {
                  "name": "EM",
                  "rawType": "float64",
                  "type": "float"
                },
                {
                  "name": "ES",
                  "rawType": "float64",
                  "type": "float"
                },
                {
                  "name": "EA",
                  "rawType": "float64",
                  "type": "float"
                },
                {
                  "name": "Rep",
                  "rawType": "float64",
                  "type": "float"
                },
                {
                  "name": "Hist",
                  "rawType": "float64",
                  "type": "float"
                },
                {
                  "name": "ELin",
                  "rawType": "float64",
                  "type": "float"
                },
                {
                  "name": "uTA (Rep_p)",
                  "rawType": "float64",
                  "type": "float"
                },
                {
                  "name": "Res_p",
                  "rawType": "float64",
                  "type": "float"
                },
                {
                  "name": "Res (p)_p",
                  "rawType": "float64",
                  "type": "float"
                },
                {
                  "name": "u (p)_p",
                  "rawType": "float64",
                  "type": "float"
                },
                {
                  "name": "Lin_p",
                  "rawType": "float64",
                  "type": "float"
                },
                {
                  "name": "Hist_p",
                  "rawType": "float64",
                  "type": "float"
                },
                {
                  "name": "uC",
                  "rawType": "float64",
                  "type": "float"
                },
                {
                  "name": "Veff",
                  "rawType": "float64",
                  "type": "float"
                },
                {
                  "name": "k",
                  "rawType": "float64",
                  "type": "float"
                },
                {
                  "name": "uE",
                  "rawType": "float64",
                  "type": "float"
                }
              ],
              "conversionMethod": "pd.DataFrame",
              "ref": "5815fb0a-faf2-4f3e-8655-8184c2ba8bc5",
              "rows": [
                [
                  "0",
                  "0.002999999999999989",
                  "0.0004999999999999866",
                  "0.0015811388300841858",
                  "0.0015811388300841858",
                  "0.002600000000000005",
                  "0.00011026415698336955",
                  "0.0004999999999999987",
                  "0.002886751345948129",
                  "0.0002886751345948129",
                  "0.0005",
                  "6.366104071631557e-05",
                  "0.000750555349946515",
                  "0.0030796189257934307",
                  "12952.404885524893",
                  "2.0001954771181887",
                  "0.006159839846619595"
                ],
                [
                  "1",
                  "0.0040000000000000036",
                  "0.0020000000000000018",
                  "0.0011547005383792527",
                  "0.0011547005383792527",
                  "0.0015999999999999348",
                  "0.00019859428273938384",
                  "0.00036514837167011106",
                  "0.002886751345948129",
                  "0.0002886751345948129",
                  "0.0005",
                  "0.00011465846259910392",
                  "0.0004618802153516818",
                  "0.003004410074603483",
                  "41247.903030614456",
                  "2.0000630550339213",
                  "0.006009009592386134"
                ],
                [
                  "2",
                  "0.006000000000000005",
                  "0.0031999999999998696",
                  "0.0019321835661585858",
                  "0.0019321835661585858",
                  "0.0031999999999998696",
                  "8.833012575615307e-05",
                  "0.0006110100926607768",
                  "0.002886751345948129",
                  "0.0002886751345948129",
                  "0.0005",
                  "5.099742188286847e-05",
                  "0.0009237604307033636",
                  "0.0031457803595247966",
                  "6323.573342743247",
                  "2.000397867844266",
                  "0.0062928123238997725"
                ]
              ],
              "shape": {
                "columns": 16,
                "rows": 3
              }
            },
            "text/html": [
              "<div>\n",
              "<style scoped>\n",
              "    .dataframe tbody tr th:only-of-type {\n",
              "        vertical-align: middle;\n",
              "    }\n",
              "\n",
              "    .dataframe tbody tr th {\n",
              "        vertical-align: top;\n",
              "    }\n",
              "\n",
              "    .dataframe thead th {\n",
              "        text-align: right;\n",
              "    }\n",
              "</style>\n",
              "<table border=\"1\" class=\"dataframe\">\n",
              "  <thead>\n",
              "    <tr style=\"text-align: right;\">\n",
              "      <th></th>\n",
              "      <th>EM</th>\n",
              "      <th>ES</th>\n",
              "      <th>EA</th>\n",
              "      <th>Rep</th>\n",
              "      <th>Hist</th>\n",
              "      <th>ELin</th>\n",
              "      <th>uTA (Rep_p)</th>\n",
              "      <th>Res_p</th>\n",
              "      <th>Res (p)_p</th>\n",
              "      <th>u (p)_p</th>\n",
              "      <th>Lin_p</th>\n",
              "      <th>Hist_p</th>\n",
              "      <th>uC</th>\n",
              "      <th>Veff</th>\n",
              "      <th>k</th>\n",
              "      <th>uE</th>\n",
              "    </tr>\n",
              "  </thead>\n",
              "  <tbody>\n",
              "    <tr>\n",
              "      <th>0</th>\n",
              "      <td>0.003</td>\n",
              "      <td>0.0005</td>\n",
              "      <td>0.001581</td>\n",
              "      <td>0.001581</td>\n",
              "      <td>0.0026</td>\n",
              "      <td>0.000110</td>\n",
              "      <td>0.000500</td>\n",
              "      <td>0.002887</td>\n",
              "      <td>0.000289</td>\n",
              "      <td>0.0005</td>\n",
              "      <td>0.000064</td>\n",
              "      <td>0.000751</td>\n",
              "      <td>0.003080</td>\n",
              "      <td>12952.404886</td>\n",
              "      <td>2.000195</td>\n",
              "      <td>0.006160</td>\n",
              "    </tr>\n",
              "    <tr>\n",
              "      <th>1</th>\n",
              "      <td>0.004</td>\n",
              "      <td>0.0020</td>\n",
              "      <td>0.001155</td>\n",
              "      <td>0.001155</td>\n",
              "      <td>0.0016</td>\n",
              "      <td>0.000199</td>\n",
              "      <td>0.000365</td>\n",
              "      <td>0.002887</td>\n",
              "      <td>0.000289</td>\n",
              "      <td>0.0005</td>\n",
              "      <td>0.000115</td>\n",
              "      <td>0.000462</td>\n",
              "      <td>0.003004</td>\n",
              "      <td>41247.903031</td>\n",
              "      <td>2.000063</td>\n",
              "      <td>0.006009</td>\n",
              "    </tr>\n",
              "    <tr>\n",
              "      <th>2</th>\n",
              "      <td>0.006</td>\n",
              "      <td>0.0032</td>\n",
              "      <td>0.001932</td>\n",
              "      <td>0.001932</td>\n",
              "      <td>0.0032</td>\n",
              "      <td>0.000088</td>\n",
              "      <td>0.000611</td>\n",
              "      <td>0.002887</td>\n",
              "      <td>0.000289</td>\n",
              "      <td>0.0005</td>\n",
              "      <td>0.000051</td>\n",
              "      <td>0.000924</td>\n",
              "      <td>0.003146</td>\n",
              "      <td>6323.573343</td>\n",
              "      <td>2.000398</td>\n",
              "      <td>0.006293</td>\n",
              "    </tr>\n",
              "  </tbody>\n",
              "</table>\n",
              "</div>"
            ],
            "text/plain": [
              "      EM      ES        EA       Rep    Hist      ELin  uTA (Rep_p)     Res_p  \\\n",
              "0  0.003  0.0005  0.001581  0.001581  0.0026  0.000110     0.000500  0.002887   \n",
              "1  0.004  0.0020  0.001155  0.001155  0.0016  0.000199     0.000365  0.002887   \n",
              "2  0.006  0.0032  0.001932  0.001932  0.0032  0.000088     0.000611  0.002887   \n",
              "\n",
              "   Res (p)_p  u (p)_p     Lin_p    Hist_p        uC          Veff         k  \\\n",
              "0   0.000289   0.0005  0.000064  0.000751  0.003080  12952.404886  2.000195   \n",
              "1   0.000289   0.0005  0.000115  0.000462  0.003004  41247.903031  2.000063   \n",
              "2   0.000289   0.0005  0.000051  0.000924  0.003146   6323.573343  2.000398   \n",
              "\n",
              "         uE  \n",
              "0  0.006160  \n",
              "1  0.006009  \n",
              "2  0.006293  "
            ]
          },
          "execution_count": 25,
          "metadata": {},
          "output_type": "execute_result"
        }
      ],
      "source": [
        "caracteristicasPadrao = {'k': np.matrix([2, 2, 2]),\n",
        "                         'veff': np.matrix([np.inf, np.inf, np.inf])}\n",
        "\n",
        "uTB = [('Res',np.matrix([0.01, 0.01, 0.01])),\n",
        "       ('Res (p)',np.matrix([0.001, 0.001, 0.001])),\n",
        "       ('u (p)',np.matrix([0.001, 0.001, 0.001]))]\n",
        "\n",
        "nivelConfiancaDesejado = np.matrix([95.45,95.45,95.45])\n",
        "\n",
        "VVC = np.matrix([0.1, 0.5, 1.0])\n",
        "\n",
        "xi_avanco = np.matrix([[0.101, 0.503, 1.005],\n",
        "                       [0.102, 0.504, 1.004],\n",
        "                       [0.102, 0.502, 1.006],\n",
        "                       [0.103, 0.502, 1.005],\n",
        "                       [0.101, 0.503, 1.004]])\n",
        "\n",
        "xi_atraso = np.matrix([[0.098, 0.502, 1.002],\n",
        "                       [0.1, 0.501, 1.0],\n",
        "                       [0.099, 0.5, 1.003],\n",
        "                       [0.099, 0.501, 1.001],\n",
        "                       [0.1, 0.502, 1.002]])\n",
        "\n",
        "xi = np.concatenate((xi_avanco, xi_atraso), 0)\n",
        "\n",
        "caractEstatico(caracteristicasPadrao, uTB, nivelConfiancaDesejado, VVC, xi, xi_avanco, xi_atraso)"
      ]
    },
    {
      "cell_type": "markdown",
      "metadata": {
        "id": "tE1PP1ssSnRy"
      },
      "source": [
        "# Balança"
      ]
    },
    {
      "cell_type": "code",
      "execution_count": 26,
      "metadata": {
        "colab": {
          "base_uri": "https://localhost:8080/",
          "height": 181
        },
        "id": "niFZUHFGSaqU",
        "outputId": "e2d90a52-cbac-4157-b1f8-b43d156159b7"
      },
      "outputs": [
        {
          "data": {
            "application/vnd.microsoft.datawrangler.viewer.v0+json": {
              "columns": [
                {
                  "name": "index",
                  "rawType": "int64",
                  "type": "integer"
                },
                {
                  "name": "EM",
                  "rawType": "float64",
                  "type": "float"
                },
                {
                  "name": "ES",
                  "rawType": "float64",
                  "type": "float"
                },
                {
                  "name": "EA",
                  "rawType": "float64",
                  "type": "float"
                },
                {
                  "name": "Rep",
                  "rawType": "float64",
                  "type": "float"
                },
                {
                  "name": "Hist",
                  "rawType": "float64",
                  "type": "float"
                },
                {
                  "name": "ELin",
                  "rawType": "float64",
                  "type": "float"
                },
                {
                  "name": "uTA (Rep_p)",
                  "rawType": "float64",
                  "type": "float"
                },
                {
                  "name": "Res_p",
                  "rawType": "float64",
                  "type": "float"
                },
                {
                  "name": "u (p)_p",
                  "rawType": "float64",
                  "type": "float"
                },
                {
                  "name": "Deriva (p)_p",
                  "rawType": "float64",
                  "type": "float"
                },
                {
                  "name": "Lin_p",
                  "rawType": "float64",
                  "type": "float"
                },
                {
                  "name": "Hist_p",
                  "rawType": "float64",
                  "type": "float"
                },
                {
                  "name": "uC",
                  "rawType": "float64",
                  "type": "float"
                },
                {
                  "name": "Veff",
                  "rawType": "float64",
                  "type": "float"
                },
                {
                  "name": "k",
                  "rawType": "float64",
                  "type": "float"
                },
                {
                  "name": "uE",
                  "rawType": "float64",
                  "type": "float"
                }
              ],
              "conversionMethod": "pd.DataFrame",
              "ref": "830d45a4-5864-454a-8a69-9fd3e5f21f7b",
              "rows": [
                [
                  "0",
                  "0.0009999999999998899",
                  "0.0003999999999997339",
                  "0.0005477225575051058",
                  "0.0005477225575051058",
                  "0.0",
                  "0.00010066618143644845",
                  "0.00024494897427829084",
                  "0.0002886751345948129",
                  "5e-06",
                  "5.773502691896259e-06",
                  "5.811964695062522e-05",
                  "0.0",
                  "0.00038310515531420194",
                  "23.934781945461957",
                  "2.1100134311422414",
                  "0.0008083570232528005"
                ],
                [
                  "1",
                  "0.0009999999999976694",
                  "0.0006000000000057071",
                  "0.0005477225575038897",
                  "0.0005477225575038897",
                  "0.0",
                  "0.00019932023121072007",
                  "0.00024494897427774695",
                  "0.0002886751345948129",
                  "5e-06",
                  "5.773502691896259e-06",
                  "0.00011507758914444769",
                  "0.0",
                  "0.0003957707899652087",
                  "27.260413654159528",
                  "2.095976457522296",
                  "0.0008295262583420787"
                ],
                [
                  "2",
                  "0.0010000000000047748",
                  "0.00019999999999242846",
                  "0.0004472135955020933",
                  "0.0004472135955020933",
                  "0.0",
                  "9.865404976494574e-05",
                  "0.00020000000000095495",
                  "0.0002886751345948129",
                  "7.936507936507938e-06",
                  "5.773502691896259e-06",
                  "5.695794218843816e-05",
                  "0.0",
                  "0.0003559127168332376",
                  "10.291594582583038",
                  "2.2746299019583978",
                  "0.0008095697081961341"
                ]
              ],
              "shape": {
                "columns": 16,
                "rows": 3
              }
            },
            "text/html": [
              "<div>\n",
              "<style scoped>\n",
              "    .dataframe tbody tr th:only-of-type {\n",
              "        vertical-align: middle;\n",
              "    }\n",
              "\n",
              "    .dataframe tbody tr th {\n",
              "        vertical-align: top;\n",
              "    }\n",
              "\n",
              "    .dataframe thead th {\n",
              "        text-align: right;\n",
              "    }\n",
              "</style>\n",
              "<table border=\"1\" class=\"dataframe\">\n",
              "  <thead>\n",
              "    <tr style=\"text-align: right;\">\n",
              "      <th></th>\n",
              "      <th>EM</th>\n",
              "      <th>ES</th>\n",
              "      <th>EA</th>\n",
              "      <th>Rep</th>\n",
              "      <th>Hist</th>\n",
              "      <th>ELin</th>\n",
              "      <th>uTA (Rep_p)</th>\n",
              "      <th>Res_p</th>\n",
              "      <th>u (p)_p</th>\n",
              "      <th>Deriva (p)_p</th>\n",
              "      <th>Lin_p</th>\n",
              "      <th>Hist_p</th>\n",
              "      <th>uC</th>\n",
              "      <th>Veff</th>\n",
              "      <th>k</th>\n",
              "      <th>uE</th>\n",
              "    </tr>\n",
              "  </thead>\n",
              "  <tbody>\n",
              "    <tr>\n",
              "      <th>0</th>\n",
              "      <td>0.001</td>\n",
              "      <td>0.0004</td>\n",
              "      <td>0.000548</td>\n",
              "      <td>0.000548</td>\n",
              "      <td>0.0</td>\n",
              "      <td>0.000101</td>\n",
              "      <td>0.000245</td>\n",
              "      <td>0.000289</td>\n",
              "      <td>0.000005</td>\n",
              "      <td>0.000006</td>\n",
              "      <td>0.000058</td>\n",
              "      <td>0.0</td>\n",
              "      <td>0.000383</td>\n",
              "      <td>23.934782</td>\n",
              "      <td>2.110013</td>\n",
              "      <td>0.000808</td>\n",
              "    </tr>\n",
              "    <tr>\n",
              "      <th>1</th>\n",
              "      <td>0.001</td>\n",
              "      <td>0.0006</td>\n",
              "      <td>0.000548</td>\n",
              "      <td>0.000548</td>\n",
              "      <td>0.0</td>\n",
              "      <td>0.000199</td>\n",
              "      <td>0.000245</td>\n",
              "      <td>0.000289</td>\n",
              "      <td>0.000005</td>\n",
              "      <td>0.000006</td>\n",
              "      <td>0.000115</td>\n",
              "      <td>0.0</td>\n",
              "      <td>0.000396</td>\n",
              "      <td>27.260414</td>\n",
              "      <td>2.095976</td>\n",
              "      <td>0.000830</td>\n",
              "    </tr>\n",
              "    <tr>\n",
              "      <th>2</th>\n",
              "      <td>0.001</td>\n",
              "      <td>0.0002</td>\n",
              "      <td>0.000447</td>\n",
              "      <td>0.000447</td>\n",
              "      <td>0.0</td>\n",
              "      <td>0.000099</td>\n",
              "      <td>0.000200</td>\n",
              "      <td>0.000289</td>\n",
              "      <td>0.000008</td>\n",
              "      <td>0.000006</td>\n",
              "      <td>0.000057</td>\n",
              "      <td>0.0</td>\n",
              "      <td>0.000356</td>\n",
              "      <td>10.291595</td>\n",
              "      <td>2.274630</td>\n",
              "      <td>0.000810</td>\n",
              "    </tr>\n",
              "  </tbody>\n",
              "</table>\n",
              "</div>"
            ],
            "text/plain": [
              "      EM      ES        EA       Rep  Hist      ELin  uTA (Rep_p)     Res_p  \\\n",
              "0  0.001  0.0004  0.000548  0.000548   0.0  0.000101     0.000245  0.000289   \n",
              "1  0.001  0.0006  0.000548  0.000548   0.0  0.000199     0.000245  0.000289   \n",
              "2  0.001  0.0002  0.000447  0.000447   0.0  0.000099     0.000200  0.000289   \n",
              "\n",
              "    u (p)_p  Deriva (p)_p     Lin_p  Hist_p        uC       Veff         k  \\\n",
              "0  0.000005      0.000006  0.000058     0.0  0.000383  23.934782  2.110013   \n",
              "1  0.000005      0.000006  0.000115     0.0  0.000396  27.260414  2.095976   \n",
              "2  0.000008      0.000006  0.000057     0.0  0.000356  10.291595  2.274630   \n",
              "\n",
              "         uE  \n",
              "0  0.000808  \n",
              "1  0.000830  \n",
              "2  0.000810  "
            ]
          },
          "execution_count": 26,
          "metadata": {},
          "output_type": "execute_result"
        }
      ],
      "source": [
        "caracteristicasPadrao = {'k': np.matrix([2, 2, 2.52]),\n",
        "                         'veff': np.matrix([np.inf, np.inf, 6])}\n",
        "\n",
        "uTB = [('Res',np.matrix([0.001, 0.001, 0.001])),\n",
        "       ('u (p)',np.matrix([0.00001, 0.00001, 0.00002])),\n",
        "       ('Deriva (p)',np.matrix([0.00001, 0.00001, 0.00001]))]\n",
        "\n",
        "nivelConfiancaDesejado = np.matrix([95.45,95.45,95.45])\n",
        "\n",
        "VVC = np.matrix([1,50,100])\n",
        "\n",
        "xi = np.matrix([[1, 50, 100],\n",
        "                [1.001, 50.001, 100],\n",
        "                [1, 50.001, 100],\n",
        "                [1, 50, 100.001],\n",
        "                [1.001, 50.001, 100]])\n",
        "\n",
        "caractEstatico(caracteristicasPadrao, uTB, nivelConfiancaDesejado, VVC, xi, np.ones((1,np.size(xi,1))), np.ones((1,np.size(xi,1))))"
      ]
    },
    {
      "cell_type": "markdown",
      "metadata": {},
      "source": [
        "# Luxímetro"
      ]
    },
    {
      "cell_type": "code",
      "execution_count": 27,
      "metadata": {},
      "outputs": [
        {
          "data": {
            "application/vnd.microsoft.datawrangler.viewer.v0+json": {
              "columns": [
                {
                  "name": "index",
                  "rawType": "int64",
                  "type": "integer"
                },
                {
                  "name": "EM",
                  "rawType": "float64",
                  "type": "float"
                },
                {
                  "name": "ES",
                  "rawType": "float64",
                  "type": "float"
                },
                {
                  "name": "EA",
                  "rawType": "float64",
                  "type": "float"
                },
                {
                  "name": "Rep",
                  "rawType": "float64",
                  "type": "float"
                },
                {
                  "name": "Hist",
                  "rawType": "float64",
                  "type": "float"
                },
                {
                  "name": "ELin",
                  "rawType": "float64",
                  "type": "float"
                },
                {
                  "name": "uTA (Rep_p)",
                  "rawType": "float64",
                  "type": "float"
                },
                {
                  "name": "Res_p",
                  "rawType": "float64",
                  "type": "float"
                },
                {
                  "name": "Res (p)_p",
                  "rawType": "float64",
                  "type": "float"
                },
                {
                  "name": "u (p)_p",
                  "rawType": "float64",
                  "type": "float"
                },
                {
                  "name": "Deriva (p)_p",
                  "rawType": "float64",
                  "type": "float"
                },
                {
                  "name": "Lin_p",
                  "rawType": "float64",
                  "type": "float"
                },
                {
                  "name": "Hist_p",
                  "rawType": "float64",
                  "type": "float"
                },
                {
                  "name": "uC",
                  "rawType": "float64",
                  "type": "float"
                },
                {
                  "name": "Veff",
                  "rawType": "float64",
                  "type": "float"
                },
                {
                  "name": "k",
                  "rawType": "float64",
                  "type": "float"
                },
                {
                  "name": "uE",
                  "rawType": "float64",
                  "type": "float"
                }
              ],
              "conversionMethod": "pd.DataFrame",
              "ref": "f76eaef0-c5fb-4a5c-9678-82befbf2cfcc",
              "rows": [
                [
                  "0",
                  "942.05",
                  "381.65999999999997",
                  "511.5454828263074",
                  "511.5454828263074",
                  "0.0",
                  "40.50481762940694",
                  "228.77009463651493",
                  "0.02886751345948129",
                  "0.002886751345948129",
                  "0.0005",
                  "0.0011547005383792516",
                  "23.3854673618148",
                  "0.0",
                  "229.96225152615918",
                  "4.084032527645652",
                  "2.8452791654885172",
                  "654.3068031162106"
                ],
                [
                  "1",
                  "332.96",
                  "-332.944",
                  "0.01140175425099254",
                  "0.01140175425099254",
                  "0.0",
                  "246.61101179921013",
                  "0.005099019513593303",
                  "0.02886751345948129",
                  "0.002886751345948129",
                  "0.0005",
                  "0.0011547005383792516",
                  "142.38093404739996",
                  "0.0",
                  "142.3809370999505",
                  "2.4317598478560225e+18",
                  "2.000002443899603",
                  "284.7622221646167"
                ],
                [
                  "2",
                  "523.9",
                  "-523.886",
                  "0.011401754250992227",
                  "0.011401754250992227",
                  "0.0",
                  "10.512546775869055",
                  "0.005099019513593163",
                  "0.02886751345948129",
                  "0.002886751345948129",
                  "0.0005",
                  "0.0011547005383792516",
                  "6.069421710916531",
                  "0.0",
                  "6.0694933194579725",
                  "8030138694086.124",
                  "2.0000024438999144",
                  "12.139001472150149"
                ],
                [
                  "3",
                  "723.86",
                  "-723.848",
                  "0.013038404810404884",
                  "0.013038404810404884",
                  "0.0",
                  "276.60328265274813",
                  "0.0058309518948451156",
                  "0.02886751345948129",
                  "0.002886751345948129",
                  "0.0005",
                  "0.0011547005383792516",
                  "159.6969796982983",
                  "0.0",
                  "159.69698244490627",
                  "2.2505517165247933e+18",
                  "2.000002443899603",
                  "319.39435517320453"
                ]
              ],
              "shape": {
                "columns": 17,
                "rows": 4
              }
            },
            "text/html": [
              "<div>\n",
              "<style scoped>\n",
              "    .dataframe tbody tr th:only-of-type {\n",
              "        vertical-align: middle;\n",
              "    }\n",
              "\n",
              "    .dataframe tbody tr th {\n",
              "        vertical-align: top;\n",
              "    }\n",
              "\n",
              "    .dataframe thead th {\n",
              "        text-align: right;\n",
              "    }\n",
              "</style>\n",
              "<table border=\"1\" class=\"dataframe\">\n",
              "  <thead>\n",
              "    <tr style=\"text-align: right;\">\n",
              "      <th></th>\n",
              "      <th>EM</th>\n",
              "      <th>ES</th>\n",
              "      <th>EA</th>\n",
              "      <th>Rep</th>\n",
              "      <th>Hist</th>\n",
              "      <th>ELin</th>\n",
              "      <th>uTA (Rep_p)</th>\n",
              "      <th>Res_p</th>\n",
              "      <th>Res (p)_p</th>\n",
              "      <th>u (p)_p</th>\n",
              "      <th>Deriva (p)_p</th>\n",
              "      <th>Lin_p</th>\n",
              "      <th>Hist_p</th>\n",
              "      <th>uC</th>\n",
              "      <th>Veff</th>\n",
              "      <th>k</th>\n",
              "      <th>uE</th>\n",
              "    </tr>\n",
              "  </thead>\n",
              "  <tbody>\n",
              "    <tr>\n",
              "      <th>0</th>\n",
              "      <td>942.05</td>\n",
              "      <td>381.660</td>\n",
              "      <td>511.545483</td>\n",
              "      <td>511.545483</td>\n",
              "      <td>0.0</td>\n",
              "      <td>40.504818</td>\n",
              "      <td>228.770095</td>\n",
              "      <td>0.028868</td>\n",
              "      <td>0.002887</td>\n",
              "      <td>0.0005</td>\n",
              "      <td>0.001155</td>\n",
              "      <td>23.385467</td>\n",
              "      <td>0.0</td>\n",
              "      <td>229.962252</td>\n",
              "      <td>4.084033e+00</td>\n",
              "      <td>2.845279</td>\n",
              "      <td>654.306803</td>\n",
              "    </tr>\n",
              "    <tr>\n",
              "      <th>1</th>\n",
              "      <td>332.96</td>\n",
              "      <td>-332.944</td>\n",
              "      <td>0.011402</td>\n",
              "      <td>0.011402</td>\n",
              "      <td>0.0</td>\n",
              "      <td>246.611012</td>\n",
              "      <td>0.005099</td>\n",
              "      <td>0.028868</td>\n",
              "      <td>0.002887</td>\n",
              "      <td>0.0005</td>\n",
              "      <td>0.001155</td>\n",
              "      <td>142.380934</td>\n",
              "      <td>0.0</td>\n",
              "      <td>142.380937</td>\n",
              "      <td>2.431760e+18</td>\n",
              "      <td>2.000002</td>\n",
              "      <td>284.762222</td>\n",
              "    </tr>\n",
              "    <tr>\n",
              "      <th>2</th>\n",
              "      <td>523.90</td>\n",
              "      <td>-523.886</td>\n",
              "      <td>0.011402</td>\n",
              "      <td>0.011402</td>\n",
              "      <td>0.0</td>\n",
              "      <td>10.512547</td>\n",
              "      <td>0.005099</td>\n",
              "      <td>0.028868</td>\n",
              "      <td>0.002887</td>\n",
              "      <td>0.0005</td>\n",
              "      <td>0.001155</td>\n",
              "      <td>6.069422</td>\n",
              "      <td>0.0</td>\n",
              "      <td>6.069493</td>\n",
              "      <td>8.030139e+12</td>\n",
              "      <td>2.000002</td>\n",
              "      <td>12.139001</td>\n",
              "    </tr>\n",
              "    <tr>\n",
              "      <th>3</th>\n",
              "      <td>723.86</td>\n",
              "      <td>-723.848</td>\n",
              "      <td>0.013038</td>\n",
              "      <td>0.013038</td>\n",
              "      <td>0.0</td>\n",
              "      <td>276.603283</td>\n",
              "      <td>0.005831</td>\n",
              "      <td>0.028868</td>\n",
              "      <td>0.002887</td>\n",
              "      <td>0.0005</td>\n",
              "      <td>0.001155</td>\n",
              "      <td>159.696980</td>\n",
              "      <td>0.0</td>\n",
              "      <td>159.696982</td>\n",
              "      <td>2.250552e+18</td>\n",
              "      <td>2.000002</td>\n",
              "      <td>319.394355</td>\n",
              "    </tr>\n",
              "  </tbody>\n",
              "</table>\n",
              "</div>"
            ],
            "text/plain": [
              "       EM       ES          EA         Rep  Hist        ELin  uTA (Rep_p)  \\\n",
              "0  942.05  381.660  511.545483  511.545483   0.0   40.504818   228.770095   \n",
              "1  332.96 -332.944    0.011402    0.011402   0.0  246.611012     0.005099   \n",
              "2  523.90 -523.886    0.011402    0.011402   0.0   10.512547     0.005099   \n",
              "3  723.86 -723.848    0.013038    0.013038   0.0  276.603283     0.005831   \n",
              "\n",
              "      Res_p  Res (p)_p  u (p)_p  Deriva (p)_p       Lin_p  Hist_p          uC  \\\n",
              "0  0.028868   0.002887   0.0005      0.001155   23.385467     0.0  229.962252   \n",
              "1  0.028868   0.002887   0.0005      0.001155  142.380934     0.0  142.380937   \n",
              "2  0.028868   0.002887   0.0005      0.001155    6.069422     0.0    6.069493   \n",
              "3  0.028868   0.002887   0.0005      0.001155  159.696980     0.0  159.696982   \n",
              "\n",
              "           Veff         k          uE  \n",
              "0  4.084033e+00  2.845279  654.306803  \n",
              "1  2.431760e+18  2.000002  284.762222  \n",
              "2  8.030139e+12  2.000002   12.139001  \n",
              "3  2.250552e+18  2.000002  319.394355  "
            ]
          },
          "execution_count": 27,
          "metadata": {},
          "output_type": "execute_result"
        }
      ],
      "source": [
        "caracteristicasPadrao = {'k': np.matrix([2, 2, 2, 2]),\n",
        "                         'veff': np.matrix([np.inf, np.inf, np.inf, np.inf])}\n",
        "\n",
        "uTB = [('Res',np.matrix([0.1, 0.1, 0.1, 0.1])),\n",
        "       ('Res (p)',np.matrix([0.01, 0.01, 0.01, 0.01])),\n",
        "       ('u (p)',np.matrix([0.001, 0.001, 0.001, 0.001])),\n",
        "       ('Deriva (p)',np.matrix([0.002, 0.002, 0.002, 0.002]))]\n",
        "\n",
        "nivelConfiancaDesejado = np.matrix([95.45,95.45,95.45,95.45])\n",
        "\n",
        "VVC = np.matrix([17,383,599,824])\n",
        "\n",
        "xi = np.matrix([[959.01, 50.07, 75.11, 100.15],\n",
        "               [959.05, 50.05, 75.12, 100.14],\n",
        "               [25.08, 50.06, 75.1, 100.17],\n",
        "               [25.07, 50.04, 75.11, 100.16],\n",
        "               [25.09, 50.06, 75.13, 100.14]])\n",
        "\n",
        "caractEstatico(caracteristicasPadrao, uTB, nivelConfiancaDesejado, VVC, xi, np.ones((1,np.size(xi,1))), np.ones((1,np.size(xi,1))))"
      ]
    }
  ],
  "metadata": {
    "colab": {
      "provenance": []
    },
    "kernelspec": {
      "display_name": "Python 3",
      "name": "python3"
    },
    "language_info": {
      "codemirror_mode": {
        "name": "ipython",
        "version": 3
      },
      "file_extension": ".py",
      "mimetype": "text/x-python",
      "name": "python",
      "nbconvert_exporter": "python",
      "pygments_lexer": "ipython3",
      "version": "3.12.5"
    }
  },
  "nbformat": 4,
  "nbformat_minor": 0
}
