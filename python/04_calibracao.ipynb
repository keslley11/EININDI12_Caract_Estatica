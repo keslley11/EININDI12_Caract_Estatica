{
  "cells": [
    {
      "cell_type": "code",
      "execution_count": 11,
      "metadata": {
        "id": "THlmtrZLqhmo"
      },
      "outputs": [],
      "source": [
        "from scipy.stats import t\n",
        "from scipy.linalg import pinvh as inv\n",
        "from numpy.linalg import lstsq\n",
        "import numpy.matlib as mb\n",
        "import ipywidgets as widgets\n",
        "import math as mt\n",
        "import numpy as np\n",
        "import pandas as pd\n",
        "import re   "
      ]
    },
    {
      "cell_type": "markdown",
      "metadata": {
        "id": "tE1PP1ssSnRy"
      },
      "source": [
        "# Calibração"
      ]
    },
    {
      "cell_type": "code",
      "execution_count": 12,
      "metadata": {
        "id": "niFZUHFGSaqU"
      },
      "outputs": [],
      "source": [
        "def MMQ(y, mx):\n",
        "  coef = (inv(mx.T @ mx)) @ (mx.T @ y) # Faz a linearização com os dados\n",
        "  return (coef)"
      ]
    },
    {
      "cell_type": "code",
      "execution_count": 13,
      "metadata": {
        "id": "4rpNL-sUg5Sx"
      },
      "outputs": [],
      "source": [
        "def RMSE(yReal, yEstimado): # root-mean-square deviation\n",
        "  residuos = np.sum(np.power((yReal - yEstimado),2))**0.5\n",
        "  return(residuos)"
      ]
    },
    {
      "cell_type": "code",
      "execution_count": 14,
      "metadata": {},
      "outputs": [],
      "source": [
        "def calcular_r2(y_true, y_pred):\n",
        "    \"\"\"\n",
        "    Calcula o coeficiente de determinação R².\n",
        "    \n",
        "    Parâmetros:\n",
        "    y_true: array-like, Valores observados (reais).\n",
        "    y_pred: array-like, Valores preditos pelo modelo.\n",
        "    \n",
        "    Retorno:\n",
        "    r2: float, Coeficiente de determinação R².\n",
        "    \"\"\"\n",
        "    # Converter para arrays do NumPy, caso não sejam\n",
        "    y_true = np.array(y_true)\n",
        "    y_pred = np.array(y_pred)\n",
        "    \n",
        "    # Média dos valores observados\n",
        "    y_mean = np.mean(y_true)\n",
        "    \n",
        "    # Soma dos quadrados dos resíduos (SSR)\n",
        "    ss_res = np.sum((y_true - y_pred) ** 2)\n",
        "    \n",
        "    # Soma total dos quadrados (SST)\n",
        "    ss_tot = np.sum((y_true - y_mean) ** 2)\n",
        "    \n",
        "    # Cálculo de R²\n",
        "    r2 = 1 - (ss_res / ss_tot)\n",
        "    \n",
        "    return r2"
      ]
    },
    {
      "cell_type": "markdown",
      "metadata": {
        "id": "obBN3LMNi5Pl"
      },
      "source": [
        "## Caso 1: Sistema de 1º Ordem sendo avaliado por diversas ordens"
      ]
    },
    {
      "cell_type": "code",
      "execution_count": 15,
      "metadata": {
        "id": "TdX-MdZesT8-"
      },
      "outputs": [],
      "source": [
        "x = np.matrix([410.0,389.0,329.0,307.0,261.0])\n",
        "y = np.matrix([453.0,500.0,674.0,758.0,988.0])"
      ]
    },
    {
      "cell_type": "code",
      "execution_count": 16,
      "metadata": {
        "colab": {
          "base_uri": "https://localhost:8080/"
        },
        "id": "JRaZlrBwYzqz",
        "outputId": "ffd3258c-14db-4f5b-c778-cd9d1b50d45a"
      },
      "outputs": [
        {
          "name": "stdout",
          "output_type": "stream",
          "text": [
            "[[-3.49666414]] [[1860.66847472]]\n",
            "[[453. 500. 674. 758. 988.]] \n",
            " [[427.03617921 500.46612606 710.26597418 787.19258516 948.03913539]]\n",
            "66.62308815614193\n",
            "0.9759771438033317\n"
          ]
        }
      ],
      "source": [
        "tam = np.size(x.T,0) # Quantidade de valores analisados\n",
        "mx = np.concatenate((x.T, np.ones((tam,1))),1)\n",
        "a, b = MMQ(y.T,mx)\n",
        "yEstimado = a*x+b # Y estimado\n",
        "print(a, b)\n",
        "print(y, '\\n', yEstimado)\n",
        "print(RMSE(y,yEstimado))\n",
        "print(calcular_r2(y,yEstimado))"
      ]
    },
    {
      "cell_type": "code",
      "execution_count": 17,
      "metadata": {
        "colab": {
          "base_uri": "https://localhost:8080/"
        },
        "id": "PinRqflZd-E5",
        "outputId": "2c350d3a-62cf-464b-a951-5fb21404b6f9"
      },
      "outputs": [
        {
          "name": "stdout",
          "output_type": "stream",
          "text": [
            "[[0.01296393]] [[-12.2612844]] [[3303.80050555]]\n",
            "[[453. 500. 674. 758. 988.]] \n",
            " [[455.91118097 495.87630737 673.06710131 761.42399574 986.72141462]]\n",
            "6.3014794192308825\n",
            "0.9997850882468805\n"
          ]
        }
      ],
      "source": [
        "tam = np.size(x.T,0) # Quantidade de valores analisados\n",
        "mx = np.concatenate((np.power(x.T,2), x.T, np.ones((tam,1))),1)\n",
        "a, b, c = MMQ(y.T,mx)\n",
        "yEstimado = a*np.power(x,2)+b*x+c # Y estimado\n",
        "print(a, b, c)\n",
        "print(y, '\\n', yEstimado)\n",
        "print(RMSE(y,yEstimado))\n",
        "print(calcular_r2(y,yEstimado))"
      ]
    },
    {
      "cell_type": "code",
      "execution_count": 18,
      "metadata": {
        "colab": {
          "base_uri": "https://localhost:8080/"
        },
        "id": "3alDMVN8etLJ",
        "outputId": "a333b214-7311-414b-b8b0-123855547457"
      },
      "outputs": [
        {
          "name": "stdout",
          "output_type": "stream",
          "text": [
            "[[9.34892517e-05]] [[-0.08041748]] [[18.38318761]] [[0.17078185]]\n",
            "[[453. 500. 674. 758. 988.]] \n",
            " [[462.47262459 485.51687089 673.04419595 769.60206293 982.26355667]]\n",
            "21.631455178732757\n",
            "0.9974675166742283\n"
          ]
        }
      ],
      "source": [
        "tam = np.size(x.T,0) # Quantidade de valores analisados\n",
        "mx = np.concatenate((np.power(x.T,3), np.power(x.T,2), x.T, np.ones((tam,1))),1)\n",
        "a, b, c, d = MMQ(y.T,mx)\n",
        "yEstimado = a*np.power(x,3)+b*np.power(x,2)+c*x+d # Y estimado\n",
        "print(a, b, c, d)\n",
        "print(y, '\\n', yEstimado)\n",
        "print(RMSE(y,yEstimado))\n",
        "print(calcular_r2(y,yEstimado))"
      ]
    },
    {
      "cell_type": "code",
      "execution_count": null,
      "metadata": {},
      "outputs": [
        {
          "name": "stderr",
          "output_type": "stream",
          "text": [
            "C:\\Users\\Administrator\\AppData\\Local\\Temp\\ipykernel_68876\\804333547.py:2: RuntimeWarning: overflow encountered in matmul\n",
            "  coef = (inv(mx.T @ mx)) @ (mx.T @ y) # Faz a linearização com os dados\n"
          ]
        },
        {
          "ename": "ValueError",
          "evalue": "array must not contain infs or NaNs",
          "output_type": "error",
          "traceback": [
            "\u001b[31m---------------------------------------------------------------------------\u001b[39m",
            "\u001b[31mValueError\u001b[39m                                Traceback (most recent call last)",
            "\u001b[36mCell\u001b[39m\u001b[36m \u001b[39m\u001b[32mIn[19]\u001b[39m\u001b[32m, line 3\u001b[39m\n\u001b[32m      1\u001b[39m tam = np.size(x.T,\u001b[32m0\u001b[39m) \u001b[38;5;66;03m# Quantidade de valores analisados\u001b[39;00m\n\u001b[32m      2\u001b[39m mx = np.concatenate((np.exp(x.T), np.ones((tam,\u001b[32m1\u001b[39m))),\u001b[32m1\u001b[39m)\n\u001b[32m----> \u001b[39m\u001b[32m3\u001b[39m a, b = \u001b[43mMMQ\u001b[49m\u001b[43m(\u001b[49m\u001b[43my\u001b[49m\u001b[43m.\u001b[49m\u001b[43mT\u001b[49m\u001b[43m,\u001b[49m\u001b[43mmx\u001b[49m\u001b[43m)\u001b[49m\n\u001b[32m      4\u001b[39m yEstimado = a*np.exp(x)+b \u001b[38;5;66;03m# Y estimado\u001b[39;00m\n\u001b[32m      5\u001b[39m \u001b[38;5;28mprint\u001b[39m(a, b)\n",
            "\u001b[36mCell\u001b[39m\u001b[36m \u001b[39m\u001b[32mIn[12]\u001b[39m\u001b[32m, line 2\u001b[39m, in \u001b[36mMMQ\u001b[39m\u001b[34m(y, mx)\u001b[39m\n\u001b[32m      1\u001b[39m \u001b[38;5;28;01mdef\u001b[39;00m\u001b[38;5;250m \u001b[39m\u001b[34mMMQ\u001b[39m(y, mx):\n\u001b[32m----> \u001b[39m\u001b[32m2\u001b[39m   coef = (\u001b[43minv\u001b[49m\u001b[43m(\u001b[49m\u001b[43mmx\u001b[49m\u001b[43m.\u001b[49m\u001b[43mT\u001b[49m\u001b[43m \u001b[49m\u001b[43m@\u001b[49m\u001b[43m \u001b[49m\u001b[43mmx\u001b[49m\u001b[43m)\u001b[49m) @ (mx.T @ y) \u001b[38;5;66;03m# Faz a linearização com os dados\u001b[39;00m\n\u001b[32m      3\u001b[39m   \u001b[38;5;28;01mreturn\u001b[39;00m (coef)\n",
            "\u001b[36mFile \u001b[39m\u001b[32mc:\\Program Files\\Python312\\Lib\\site-packages\\scipy\\_lib\\_util.py:1233\u001b[39m, in \u001b[36m_apply_over_batch.<locals>.decorator.<locals>.wrapper\u001b[39m\u001b[34m(*args, **kwargs)\u001b[39m\n\u001b[32m   1231\u001b[39m \u001b[38;5;66;03m# Early exit if call is not batched\u001b[39;00m\n\u001b[32m   1232\u001b[39m \u001b[38;5;28;01mif\u001b[39;00m \u001b[38;5;129;01mnot\u001b[39;00m \u001b[38;5;28many\u001b[39m(batch_shapes):\n\u001b[32m-> \u001b[39m\u001b[32m1233\u001b[39m     \u001b[38;5;28;01mreturn\u001b[39;00m \u001b[43mf\u001b[49m\u001b[43m(\u001b[49m\u001b[43m*\u001b[49m\u001b[43marrays\u001b[49m\u001b[43m,\u001b[49m\u001b[43m \u001b[49m\u001b[43m*\u001b[49m\u001b[43mother_args\u001b[49m\u001b[43m,\u001b[49m\u001b[43m \u001b[49m\u001b[43m*\u001b[49m\u001b[43m*\u001b[49m\u001b[43mkwargs\u001b[49m\u001b[43m)\u001b[49m\n\u001b[32m   1235\u001b[39m \u001b[38;5;66;03m# Determine broadcasted batch shape\u001b[39;00m\n\u001b[32m   1236\u001b[39m batch_shape = np.broadcast_shapes(*batch_shapes)  \u001b[38;5;66;03m# Gives OK error message\u001b[39;00m\n",
            "\u001b[36mFile \u001b[39m\u001b[32mc:\\Program Files\\Python312\\Lib\\site-packages\\scipy\\linalg\\_basic.py:1725\u001b[39m, in \u001b[36mpinvh\u001b[39m\u001b[34m(a, atol, rtol, lower, return_rank, check_finite)\u001b[39m\n\u001b[32m   1656\u001b[39m \u001b[38;5;129m@_apply_over_batch\u001b[39m((\u001b[33m'\u001b[39m\u001b[33ma\u001b[39m\u001b[33m'\u001b[39m, \u001b[32m2\u001b[39m))\n\u001b[32m   1657\u001b[39m \u001b[38;5;28;01mdef\u001b[39;00m\u001b[38;5;250m \u001b[39m\u001b[34mpinvh\u001b[39m(a, atol=\u001b[38;5;28;01mNone\u001b[39;00m, rtol=\u001b[38;5;28;01mNone\u001b[39;00m, lower=\u001b[38;5;28;01mTrue\u001b[39;00m, return_rank=\u001b[38;5;28;01mFalse\u001b[39;00m,\n\u001b[32m   1658\u001b[39m           check_finite=\u001b[38;5;28;01mTrue\u001b[39;00m):\n\u001b[32m   1659\u001b[39m \u001b[38;5;250m    \u001b[39m\u001b[33;03m\"\"\"\u001b[39;00m\n\u001b[32m   1660\u001b[39m \u001b[33;03m    Compute the (Moore-Penrose) pseudo-inverse of a Hermitian matrix.\u001b[39;00m\n\u001b[32m   1661\u001b[39m \n\u001b[32m   (...)\u001b[39m\u001b[32m   1723\u001b[39m \n\u001b[32m   1724\u001b[39m \u001b[33;03m    \"\"\"\u001b[39;00m\n\u001b[32m-> \u001b[39m\u001b[32m1725\u001b[39m     a = \u001b[43m_asarray_validated\u001b[49m\u001b[43m(\u001b[49m\u001b[43ma\u001b[49m\u001b[43m,\u001b[49m\u001b[43m \u001b[49m\u001b[43mcheck_finite\u001b[49m\u001b[43m=\u001b[49m\u001b[43mcheck_finite\u001b[49m\u001b[43m)\u001b[49m\n\u001b[32m   1726\u001b[39m     s, u = _decomp.eigh(a, lower=lower, check_finite=\u001b[38;5;28;01mFalse\u001b[39;00m, driver=\u001b[33m'\u001b[39m\u001b[33mev\u001b[39m\u001b[33m'\u001b[39m)\n\u001b[32m   1727\u001b[39m     t = u.dtype.char.lower()\n",
            "\u001b[36mFile \u001b[39m\u001b[32mc:\\Program Files\\Python312\\Lib\\site-packages\\scipy\\_lib\\_util.py:455\u001b[39m, in \u001b[36m_asarray_validated\u001b[39m\u001b[34m(a, check_finite, sparse_ok, objects_ok, mask_ok, as_inexact)\u001b[39m\n\u001b[32m    453\u001b[39m         \u001b[38;5;28;01mraise\u001b[39;00m \u001b[38;5;167;01mValueError\u001b[39;00m(\u001b[33m'\u001b[39m\u001b[33mmasked arrays are not supported\u001b[39m\u001b[33m'\u001b[39m)\n\u001b[32m    454\u001b[39m toarray = np.asarray_chkfinite \u001b[38;5;28;01mif\u001b[39;00m check_finite \u001b[38;5;28;01melse\u001b[39;00m np.asarray\n\u001b[32m--> \u001b[39m\u001b[32m455\u001b[39m a = \u001b[43mtoarray\u001b[49m\u001b[43m(\u001b[49m\u001b[43ma\u001b[49m\u001b[43m)\u001b[49m\n\u001b[32m    456\u001b[39m \u001b[38;5;28;01mif\u001b[39;00m \u001b[38;5;129;01mnot\u001b[39;00m objects_ok:\n\u001b[32m    457\u001b[39m     \u001b[38;5;28;01mif\u001b[39;00m a.dtype \u001b[38;5;129;01mis\u001b[39;00m np.dtype(\u001b[33m'\u001b[39m\u001b[33mO\u001b[39m\u001b[33m'\u001b[39m):\n",
            "\u001b[36mFile \u001b[39m\u001b[32mc:\\Program Files\\Python312\\Lib\\site-packages\\numpy\\lib\\_function_base_impl.py:665\u001b[39m, in \u001b[36masarray_chkfinite\u001b[39m\u001b[34m(a, dtype, order)\u001b[39m\n\u001b[32m    663\u001b[39m a = asarray(a, dtype=dtype, order=order)\n\u001b[32m    664\u001b[39m \u001b[38;5;28;01mif\u001b[39;00m a.dtype.char \u001b[38;5;129;01min\u001b[39;00m typecodes[\u001b[33m'\u001b[39m\u001b[33mAllFloat\u001b[39m\u001b[33m'\u001b[39m] \u001b[38;5;129;01mand\u001b[39;00m \u001b[38;5;129;01mnot\u001b[39;00m np.isfinite(a).all():\n\u001b[32m--> \u001b[39m\u001b[32m665\u001b[39m     \u001b[38;5;28;01mraise\u001b[39;00m \u001b[38;5;167;01mValueError\u001b[39;00m(\n\u001b[32m    666\u001b[39m         \u001b[33m\"\u001b[39m\u001b[33marray must not contain infs or NaNs\u001b[39m\u001b[33m\"\u001b[39m)\n\u001b[32m    667\u001b[39m \u001b[38;5;28;01mreturn\u001b[39;00m a\n",
            "\u001b[31mValueError\u001b[39m: array must not contain infs or NaNs"
          ]
        }
      ],
      "source": [
        "tam = np.size(x.T,0) # Quantidade de valores analisados\n",
        "mx = np.concatenate((np.exp(x.T/100), np.ones((tam,1))),1)\n",
        "a, b = MMQ(y.T,mx)\n",
        "yEstimado = a*np.exp(x)+b # Y estimado\n",
        "print(a, b)\n",
        "print(y, '\\n', yEstimado)\n",
        "print(RMSE(y,yEstimado))\n",
        "print(calcular_r2(y,yEstimado))"
      ]
    }
  ],
  "metadata": {
    "colab": {
      "provenance": []
    },
    "kernelspec": {
      "display_name": "Python 3",
      "name": "python3"
    },
    "language_info": {
      "codemirror_mode": {
        "name": "ipython",
        "version": 3
      },
      "file_extension": ".py",
      "mimetype": "text/x-python",
      "name": "python",
      "nbconvert_exporter": "python",
      "pygments_lexer": "ipython3",
      "version": "3.12.5"
    }
  },
  "nbformat": 4,
  "nbformat_minor": 0
}
