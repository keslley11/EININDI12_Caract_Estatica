{
  "cells": [
    {
      "cell_type": "code",
      "execution_count": 1,
      "metadata": {
        "id": "THlmtrZLqhmo"
      },
      "outputs": [],
      "source": [
        "from scipy.stats import t\n",
        "from scipy.linalg import pinvh as inv\n",
        "from numpy.linalg import lstsq\n",
        "import numpy.matlib as mb\n",
        "import ipywidgets as widgets\n",
        "import math as mt\n",
        "import numpy as np\n",
        "import pandas as pd\n",
        "import re   "
      ]
    },
    {
      "cell_type": "markdown",
      "metadata": {
        "id": "tE1PP1ssSnRy"
      },
      "source": [
        "# Calibração"
      ]
    },
    {
      "cell_type": "code",
      "execution_count": 2,
      "metadata": {
        "id": "niFZUHFGSaqU"
      },
      "outputs": [],
      "source": [
        "def MMQ(y, mx):\n",
        "  coef = (inv(mx.T @ mx)) @ (mx.T @ y) # Faz a linearização com os dados\n",
        "  return (coef)"
      ]
    },
    {
      "cell_type": "code",
      "execution_count": 3,
      "metadata": {
        "id": "4rpNL-sUg5Sx"
      },
      "outputs": [],
      "source": [
        "def RMSE(yReal, yEstimado): # root-mean-square deviation\n",
        "  residuos = np.sum(np.power((yReal - yEstimado),2))**0.5\n",
        "  return(residuos)"
      ]
    },
    {
      "cell_type": "code",
      "execution_count": 4,
      "metadata": {},
      "outputs": [],
      "source": [
        "def calcular_r2(y_true, y_pred):\n",
        "    \"\"\"\n",
        "    Calcula o coeficiente de determinação R².\n",
        "    \n",
        "    Parâmetros:\n",
        "    y_true: array-like, Valores observados (reais).\n",
        "    y_pred: array-like, Valores preditos pelo modelo.\n",
        "    \n",
        "    Retorno:\n",
        "    r2: float, Coeficiente de determinação R².\n",
        "    \"\"\"\n",
        "    # Converter para arrays do NumPy, caso não sejam\n",
        "    y_true = np.array(y_true)\n",
        "    y_pred = np.array(y_pred)\n",
        "    \n",
        "    # Média dos valores observados\n",
        "    y_mean = np.mean(y_true)\n",
        "    \n",
        "    # Soma dos quadrados dos resíduos (SSR)\n",
        "    ss_res = np.sum((y_true - y_pred) ** 2)\n",
        "    \n",
        "    # Soma total dos quadrados (SST)\n",
        "    ss_tot = np.sum((y_true - y_mean) ** 2)\n",
        "    \n",
        "    # Cálculo de R²\n",
        "    r2 = 1 - (ss_res / ss_tot)\n",
        "    \n",
        "    return r2"
      ]
    },
    {
      "cell_type": "markdown",
      "metadata": {
        "id": "obBN3LMNi5Pl"
      },
      "source": [
        "## Caso 1: Sistema de 1º Ordem sendo avaliado por diversas ordens"
      ]
    },
    {
      "cell_type": "code",
      "execution_count": 5,
      "metadata": {
        "id": "TdX-MdZesT8-"
      },
      "outputs": [],
      "source": [
        "x = np.matrix([1.0,2.0,3.0,4.0,5.0])\n",
        "y = np.matrix([15.0,25.0,35.0,45.0,55.0])"
      ]
    },
    {
      "cell_type": "code",
      "execution_count": 6,
      "metadata": {
        "colab": {
          "base_uri": "https://localhost:8080/"
        },
        "id": "JRaZlrBwYzqz",
        "outputId": "ffd3258c-14db-4f5b-c778-cd9d1b50d45a"
      },
      "outputs": [
        {
          "name": "stdout",
          "output_type": "stream",
          "text": [
            "[[10.]] [[5.]]\n",
            "[[15. 25. 35. 45. 55.]] \n",
            " [[15. 25. 35. 45. 55.]]\n",
            "2.864289338439558e-14\n",
            "1.0\n"
          ]
        }
      ],
      "source": [
        "tam = np.size(x.T,0) # Quantidade de valores analisados\n",
        "mx = np.concatenate((x.T, np.ones((tam,1))),1)\n",
        "a, b = MMQ(y.T,mx)\n",
        "yEstimado = a*x+b # Y estimado\n",
        "print(a, b)\n",
        "print(y, '\\n', yEstimado)\n",
        "print(RMSE(y,yEstimado))\n",
        "print(calcular_r2(y,yEstimado))"
      ]
    },
    {
      "cell_type": "code",
      "execution_count": 7,
      "metadata": {
        "colab": {
          "base_uri": "https://localhost:8080/"
        },
        "id": "PinRqflZd-E5",
        "outputId": "2c350d3a-62cf-464b-a951-5fb21404b6f9"
      },
      "outputs": [
        {
          "name": "stdout",
          "output_type": "stream",
          "text": [
            "[[6.605827e-14]] [[10.]] [[5.]]\n",
            "[[15. 25. 35. 45. 55.]] \n",
            " [[15. 25. 35. 45. 55.]]\n",
            "2.3559662116483848e-12\n",
            "1.0\n"
          ]
        }
      ],
      "source": [
        "tam = np.size(x.T,0) # Quantidade de valores analisados\n",
        "mx = np.concatenate((np.power(x.T,2), x.T, np.ones((tam,1))),1)\n",
        "a, b, c = MMQ(y.T,mx)\n",
        "yEstimado = a*np.power(x,2)+b*x+c # Y estimado\n",
        "print(a, b, c)\n",
        "print(y, '\\n', yEstimado)\n",
        "print(RMSE(y,yEstimado))\n",
        "print(calcular_r2(y,yEstimado))"
      ]
    },
    {
      "cell_type": "code",
      "execution_count": 8,
      "metadata": {
        "colab": {
          "base_uri": "https://localhost:8080/"
        },
        "id": "3alDMVN8etLJ",
        "outputId": "a333b214-7311-414b-b8b0-123855547457"
      },
      "outputs": [
        {
          "name": "stdout",
          "output_type": "stream",
          "text": [
            "[[0.]] [[3.63797881e-12]] [[10.]] [[5.]]\n",
            "[[15. 25. 35. 45. 55.]] \n",
            " [[15. 25. 35. 45. 55.]]\n",
            "6.844816279127109e-11\n",
            "1.0\n"
          ]
        }
      ],
      "source": [
        "tam = np.size(x.T,0) # Quantidade de valores analisados\n",
        "mx = np.concatenate((np.power(x.T,3), np.power(x.T,2), x.T, np.ones((tam,1))),1)\n",
        "a, b, c, d = MMQ(y.T,mx)\n",
        "yEstimado = a*np.power(x,3)+b*np.power(x,2)+c*x+d # Y estimado\n",
        "print(a, b, c, d)\n",
        "print(y, '\\n', yEstimado)\n",
        "print(RMSE(y,yEstimado))\n",
        "print(calcular_r2(y,yEstimado))"
      ]
    },
    {
      "cell_type": "code",
      "execution_count": 9,
      "metadata": {},
      "outputs": [
        {
          "name": "stdout",
          "output_type": "stream",
          "text": [
            "[[970.35658217]] [[-965.00833332]]\n",
            "[[15. 25. 35. 45. 55.]] \n",
            " [[  1672.69433113   6205.01088832  18525.12462657  52014.6659258\n",
            "  143048.67748292]]\n",
            "153397.72869997026\n",
            "-23530862.17030968\n"
          ]
        }
      ],
      "source": [
        "tam = np.size(x.T,0) # Quantidade de valores analisados\n",
        "mx = np.concatenate((np.exp(x.T/100), np.ones((tam,1))),1)\n",
        "a, b = MMQ(y.T,mx)\n",
        "yEstimado = a*np.exp(x)+b # Y estimado\n",
        "print(a, b)\n",
        "print(y, '\\n', yEstimado)\n",
        "print(RMSE(y,yEstimado))\n",
        "print(calcular_r2(y,yEstimado))"
      ]
    }
  ],
  "metadata": {
    "colab": {
      "provenance": []
    },
    "kernelspec": {
      "display_name": "Python 3",
      "name": "python3"
    },
    "language_info": {
      "codemirror_mode": {
        "name": "ipython",
        "version": 3
      },
      "file_extension": ".py",
      "mimetype": "text/x-python",
      "name": "python",
      "nbconvert_exporter": "python",
      "pygments_lexer": "ipython3",
      "version": "3.12.5"
    }
  },
  "nbformat": 4,
  "nbformat_minor": 0
}
